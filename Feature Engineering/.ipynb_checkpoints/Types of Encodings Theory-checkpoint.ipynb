{
 "cells": [
  {
   "cell_type": "raw",
   "metadata": {},
   "source": [
    "1. Nominal - Features in which we don't have to worry about the arrangement / orderign  of the category.\n",
    "\n",
    "Example -\n",
    "         1. Gender Column \n",
    "                Male\n",
    "                Female\n",
    "    \n",
    "          2. States \n",
    "                New York \n",
    "                New Jersey\n",
    "                Florida\n",
    "                \n",
    "2. Ordinal - Features are rearranged according to the ranks.\n",
    "\n",
    "Example - 1. Education   \n",
    "                B.E      \n",
    "                B.Com    \n",
    "                Phd     \n",
    "                Masters  \n",
    "                \n",
    "               Ranks(As per the highest qualification)\n",
    "               Phd - 1\n",
    "               Masters - 2\n",
    "               B.E - 3\n",
    "               B.Com - 4"
   ]
  },
  {
   "cell_type": "raw",
   "metadata": {},
   "source": [
    "Types of Encodings \n",
    "\n",
    "1. Nominal Encoding - \n",
    "    Different types of techniques -\n",
    "    \n",
    "    1. One Hot Encoding\n",
    "    2. One hot Encoding with many categories\n",
    "    3. Mean Encdoing\n",
    "\n",
    "2. Ordinal Encoding - \n",
    "    Different tyoes of techniques - \n",
    "    \n",
    "    1. Label Encoding\n",
    "    2. Target guided Ordinal Encoding"
   ]
  },
  {
   "cell_type": "raw",
   "metadata": {},
   "source": [
    "1. One Hot Encoding - \n",
    "\n",
    "    States         Germany     France      Spain\n",
    "    Germany           1          0           0\n",
    "    France            0          1           0\n",
    "    Spain             0          0           1\n",
    "    \n"
   ]
  },
  {
   "cell_type": "raw",
   "metadata": {},
   "source": [
    "2. Label Encoding - \n",
    "\n",
    "    Education   Labels\n",
    "    B.E          1\n",
    "    Masters      3\n",
    "    Phd          4\n",
    "    Stats        2\n",
    "    \n",
    "The Machine Learning algorithm, will easily find the order of all the rows based on the label value provided to it."
   ]
  },
  {
   "cell_type": "raw",
   "metadata": {},
   "source": [
    "3. One Hot Encoding with Multiple Categories \n",
    "\n",
    "Using the top most frequent labels convert them into dummy variables."
   ]
  },
  {
   "cell_type": "raw",
   "metadata": {},
   "source": [
    "4. Target Guided Ordinal Categories - \n",
    "\n",
    "Here, we will not take only one feature that is having categories but will also take the output variable.\n",
    "\n",
    "Example - \n",
    "    feature     Output\n",
    "    A           1\n",
    "    B           1\n",
    "    C           0\n",
    "    D           1\n",
    "    A           1\n",
    "    B           0\n",
    "    \n",
    "For each any every category we will try to find out the mean, and after finding out the mean assign ranks to each and every feature based on the mean value and rearrange the labels, and feed the label to the machine learning algorithm.\n",
    "\n",
    "    Labels       feature     Output       Mean\n",
    "    4            A            1           0.72\n",
    "    3            B            1           0.6\n",
    "    2            C            0           0.4\n",
    "    1            D            1           - \n",
    "    4            A            1           -\n",
    "    2            B            0           -"
   ]
  },
  {
   "cell_type": "raw",
   "metadata": {},
   "source": [
    " 5. Mean Encoding\n",
    "\n",
    "Example - \n",
    "\n",
    "    feature      Output \n",
    "    A            1\n",
    "    B            1\n",
    "    C            0\n",
    "    D            1\n",
    "    A            1\n",
    "    B            0\n",
    "\n",
    "Instead of converting the features into category convert it into mean values, and feed the mean values as the feature to the machine learning model\n",
    "\n",
    "    feature      Output        Mean\n",
    "    A             1            0.7\n",
    "    B             1            0.6\n",
    "    C             0            0.4\n",
    "    D             1             -\n",
    "    A             1             -\n",
    "    B             0             -"
   ]
  },
  {
   "cell_type": "code",
   "execution_count": null,
   "metadata": {},
   "outputs": [],
   "source": []
  }
 ],
 "metadata": {
  "kernelspec": {
   "display_name": "Python 3",
   "language": "python",
   "name": "python3"
  },
  "language_info": {
   "codemirror_mode": {
    "name": "ipython",
    "version": 3
   },
   "file_extension": ".py",
   "mimetype": "text/x-python",
   "name": "python",
   "nbconvert_exporter": "python",
   "pygments_lexer": "ipython3",
   "version": "3.8.6rc1"
  }
 },
 "nbformat": 4,
 "nbformat_minor": 4
}
